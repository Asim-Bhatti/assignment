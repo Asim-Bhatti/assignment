{
 "cells": [
  {
   "cell_type": "markdown",
   "metadata": {},
   "source": [
    "<font color='red' size='4'>\n",
    "    Question:1 Write a Python function to calculate the factorial of a number (a non-negative integer). The function accepts the number as an argument.?\n",
    "</font>"
   ]
  },
  {
   "cell_type": "code",
   "execution_count": 1,
   "metadata": {},
   "outputs": [
    {
     "data": {
      "text/plain": [
       "24"
      ]
     },
     "execution_count": 1,
     "metadata": {},
     "output_type": "execute_result"
    }
   ],
   "source": [
    "# factorial of 4 is 1 * 2 * 3 * 4 = 24\n",
    "def calc_fact(n): # function defination variable (n) is called parameter\n",
    "    fact = 1 \n",
    "    if n > 0:\n",
    "        for i in range(1, n + 1): \n",
    "            fact *= i \n",
    "        return fact\n",
    "    else:\n",
    "        return \"Please pass a positive integer\"\n",
    "\n",
    "calc_fact(4) # this is function call and passed value (4) is argument"
   ]
  },
  {
   "cell_type": "markdown",
   "metadata": {},
   "source": [
    "<font color='red' size='4'>\n",
    "    Question:2 Write a Python function that accepts a string and calculate the number of upper case letters and lower case letters.?\n",
    "</font>"
   ]
  },
  {
   "cell_type": "code",
   "execution_count": 2,
   "metadata": {},
   "outputs": [
    {
     "name": "stdout",
     "output_type": "stream",
     "text": [
      "Uppecase : 6 Lowecase : 34 other characters : 10\n"
     ]
    }
   ],
   "source": [
    "def calc_upper_lower(str_val):\n",
    "    uppers = 0 \n",
    "    lowers = 0\n",
    "    others_cars = 0 # additional variable for storing other characters like spaces and special characters.\n",
    "    \n",
    "    for char in str_val: # iterating string \n",
    "        \n",
    "        if char.isupper():\n",
    "            uppers += 1\n",
    "        elif char.islower():\n",
    "            lowers += 1\n",
    "        else:\n",
    "            others_cars += 1\n",
    "    print(f\"Uppecase : {uppers} Lowecase : {lowers} other characters : {others_cars}\")\n",
    "            \n",
    "calc_upper_lower(\"My name is Ali Muhammad and I am Student of Python\")"
   ]
  },
  {
   "cell_type": "markdown",
   "metadata": {},
   "source": [
    "<font color='red' size='4'>\n",
    "    Question:3 Write a Python function to print the even numbers from a given list.?\n",
    "</font>"
   ]
  },
  {
   "cell_type": "code",
   "execution_count": 3,
   "metadata": {},
   "outputs": [
    {
     "name": "stdout",
     "output_type": "stream",
     "text": [
      "These are even numbers in the list 1, 3, 5, 7, "
     ]
    }
   ],
   "source": [
    "def print_even(lst):\n",
    "    print(\"These are even numbers in the list\", end=' ')\n",
    "    for i in lst:\n",
    "        if i % 2 != 0:\n",
    "            print(i, end= ', ')\n",
    "print_even([1,2,3,4,5,6,7])"
   ]
  },
  {
   "cell_type": "markdown",
   "metadata": {},
   "source": [
    "<font color='red' size='4'> \n",
    "Question:4 Write a Python function that checks whether a passed string is palindrome or not. Note: A palindrome is a word, phrase, or sequence that reads the same backward as forward, e.g., madam.?\n",
    "</font>"
   ]
  },
  {
   "cell_type": "code",
   "execution_count": 4,
   "metadata": {},
   "outputs": [
    {
     "name": "stdout",
     "output_type": "stream",
     "text": [
      "Palindrome\n",
      "Not Palindrome\n",
      "Palindrome\n"
     ]
    }
   ],
   "source": [
    "def check_palindrome(txt):\n",
    "    if txt.lower() == txt[: :-1].lower(): \n",
    "        print(\"Palindrome\") \n",
    "    else: \n",
    "        print(\"Not Palindrome\")\n",
    "        \n",
    "\n",
    "check_palindrome(\"madam\")\n",
    "check_palindrome(\"Java\")\n",
    "check_palindrome(\"Lal\")"
   ]
  },
  {
   "cell_type": "markdown",
   "metadata": {},
   "source": [
    "<font color='red' size='4'> \n",
    "    Question:5 Write a Python function that takes a number as a parameter and check the number is prime or not.?\n",
    "</font>"
   ]
  },
  {
   "cell_type": "code",
   "execution_count": 5,
   "metadata": {},
   "outputs": [
    {
     "name": "stdout",
     "output_type": "stream",
     "text": [
      "Your Cart\n",
      "1 - Coffee\n",
      "2 - Milk\n",
      "3 - Juice\n",
      "Your Cart\n",
      "1 - Mango\n",
      "2 - Apple\n",
      "3 - Orange\n",
      "4 - Banana\n",
      "5 - PineApple\n"
     ]
    }
   ],
   "source": [
    "def cart(*items):\n",
    "    print(\"Your Cart\")\n",
    "    index = 1\n",
    "    for item in items:\n",
    "        print(index,\"-\", item)\n",
    "        index += 1\n",
    "cart(\"Coffee\", \"Milk\", \"Juice\")\n",
    "cart(\"Mango\", \"Apple\", \"Orange\", \"Banana\", \"PineApple\")"
   ]
  },
  {
   "cell_type": "markdown",
   "metadata": {},
   "source": [
    "<font color='red' size='4'>\n",
    "Question: 6 Suppose a customer is shopping in a market and you need to print all the items which user bought from market. Write a function which accepts the multiple arguments of user shopping list and\n",
    "print all the items which user bought from market.?\n",
    "</font>"
   ]
  },
  {
   "cell_type": "code",
   "execution_count": 12,
   "metadata": {},
   "outputs": [
    {
     "name": "stdout",
     "output_type": "stream",
     "text": [
      "Enter a number: 173\n",
      "173 is a prime number\n"
     ]
    }
   ],
   "source": [
    "\n",
    "num = int(input(\"Enter a number: \"))\n",
    "if num > 1: \n",
    "    for i in range(2, num) : \n",
    "        if num % i == 0:\n",
    "            print(num,\"is not a prime number\")\n",
    "            print(f\"because {i} * {num//i} = {num}\")\n",
    "            break\n",
    "    else:\n",
    "        print(f\"{num} is a prime number\")\n",
    "    \n",
    "else:\n",
    "    print(f\"{num} is not a prime number\")"
   ]
  },
  {
   "cell_type": "code",
   "execution_count": null,
   "metadata": {},
   "outputs": [],
   "source": []
  }
 ],
 "metadata": {
  "kernelspec": {
   "display_name": "Python 3",
   "language": "python",
   "name": "python3"
  },
  "language_info": {
   "codemirror_mode": {
    "name": "ipython",
    "version": 3
   },
   "file_extension": ".py",
   "mimetype": "text/x-python",
   "name": "python",
   "nbconvert_exporter": "python",
   "pygments_lexer": "ipython3",
   "version": "3.8.0"
  }
 },
 "nbformat": 4,
 "nbformat_minor": 2
}
