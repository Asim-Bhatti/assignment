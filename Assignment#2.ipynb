{
 "cells": [
  {
   "cell_type": "code",
   "execution_count": null,
   "metadata": {
    "scrolled": true
   },
   "outputs": [],
   "source": [
    "a = input(\"Please enter English Marks\\t\\t\")\n",
    "b = input(\"Please enter Engineering Economics Marks\")\n",
    "c = input(\"Please enter Thermodynamics Marks\\t\")\n",
    "d = input(\"Please enter Heat Tranfer Marks\\t\\t\")\n",
    "e = input(\"Please enter Differential Equation Marks\")\n",
    "\n",
    "obt = (int(a) + int(b) + int(c) + int(d) + int(e))\n",
    "\n",
    "per = (obt / 500) * 100\n",
    "print(\" English                   |  \"+ a +\"  \")\n",
    "print(\" Engineering Economics     |  \"+ b +\"\")  \n",
    "print(\" Thermodynamics            |  \" + c  +\"\")\n",
    "print(\" Heat Tranfer              |  \" + d +\"  \")\n",
    "print(\" Differential Equation     |  \"+ e +\"\")\n",
    "print(\" _________________________________\")\n",
    "print(\" Obtained Marks    |  \"+ str(obt) +\"  \")\n",
    "print(\" Percent \"+ str(per) + \"%\")\n",
    "if per > 100 :\n",
    "    print(\" Please Enter maximum marks 100\")\n",
    "elif per >= 83 and per < 100 :\n",
    "    print(\" A+\")\n",
    "elif per >=73 and per <83 :\n",
    "    print(\" A\")\n",
    "elif per >=65 and per <73 :\n",
    "    print(\" B+\")\n",
    "elif per >=53 and per < 65 :\n",
    "    print(\" B\")\n",
    "elif per >=50 and per<53 :\n",
    "    print(\" C+\")\n",
    "else :\n",
    "    print(\" FAIL\")"
   ]
  },
  {
   "cell_type": "markdown",
   "metadata": {},
   "source": [
    "##### identifying that the given number is even or odd."
   ]
  },
  {
   "cell_type": "code",
   "execution_count": 2,
   "metadata": {},
   "outputs": [
    {
     "name": "stdout",
     "output_type": "stream",
     "text": [
      "Plese Enter Number\t234353465\n",
      "ODD\n"
     ]
    }
   ],
   "source": [
    "a = int(input(\"Plese Enter Number\\t\"))\n",
    "b = a % 2\n",
    "if b == 0 :\n",
    "    print(\"EVEN\")\n",
    "else :\n",
    "    print(\"ODD\")"
   ]
  },
  {
   "cell_type": "markdown",
   "metadata": {},
   "source": [
    "## Finding length of the list."
   ]
  },
  {
   "cell_type": "code",
   "execution_count": 3,
   "metadata": {},
   "outputs": [
    {
     "data": {
      "text/plain": [
       "8"
      ]
     },
     "execution_count": 3,
     "metadata": {},
     "output_type": "execute_result"
    }
   ],
   "source": [
    "subjects = [\"English\", \"Math\", \"Science\", \"Biology\", \"Chemistry\", \"Zoology\", \"Botany\", \"Statistics\"]\n",
    "len(subjects)"
   ]
  },
  {
   "cell_type": "markdown",
   "metadata": {},
   "source": [
    "## Sum all the numeric items in a list."
   ]
  },
  {
   "cell_type": "code",
   "execution_count": 8,
   "metadata": {},
   "outputs": [],
   "source": [
    "y = 0\n",
    "lst = [10, 20, 30, 50, 50, 60, 70, 80, 90]\n",
    "for x in lst :\n",
    "    y = y + x"
   ]
  },
  {
   "cell_type": "code",
   "execution_count": 9,
   "metadata": {},
   "outputs": [
    {
     "name": "stdout",
     "output_type": "stream",
     "text": [
      "460\n"
     ]
    }
   ],
   "source": [
    "print(y)"
   ]
  },
  {
   "cell_type": "markdown",
   "metadata": {},
   "source": [
    "##  Finding largest number from a numeric list."
   ]
  },
  {
   "cell_type": "code",
   "execution_count": 6,
   "metadata": {},
   "outputs": [
    {
     "name": "stdout",
     "output_type": "stream",
     "text": [
      "Largest element is: 99\n"
     ]
    }
   ],
   "source": [
    "lst = [10, 20, 40, 55, 60, 91, 99]\n",
    "print(\"Largest element is:\", max(lst))"
   ]
  },
  {
   "cell_type": "markdown",
   "metadata": {},
   "source": [
    "## Prints out all the elements of the list that are less than 5."
   ]
  },
  {
   "cell_type": "code",
   "execution_count": 7,
   "metadata": {},
   "outputs": [
    {
     "name": "stdout",
     "output_type": "stream",
     "text": [
      "1\n",
      "2\n",
      "3\n",
      "4\n"
     ]
    }
   ],
   "source": [
    "a = [1, 2, 3, 4, 5, 6, 7, 8, 9]\n",
    "for x in a :\n",
    "    if x < 5 :\n",
    "        print(x)"
   ]
  }
 ],
 "metadata": {
  "kernelspec": {
   "display_name": "Python 3",
   "language": "python",
   "name": "python3"
  },
  "language_info": {
   "codemirror_mode": {
    "name": "ipython",
    "version": 3
   },
   "file_extension": ".py",
   "mimetype": "text/x-python",
   "name": "python",
   "nbconvert_exporter": "python",
   "pygments_lexer": "ipython3",
   "version": "3.7.3"
  }
 },
 "nbformat": 4,
 "nbformat_minor": 2
}
