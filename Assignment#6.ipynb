{
 "cells": [
  {
   "cell_type": "markdown",
   "metadata": {},
   "source": [
    "<font size='5' color='red'>Question 1: Define Object Oriented Programming Language?</font>\n",
    "<hr>\n",
    "<font color='blue' size='5'>\n",
    "    <i>Ans</i> : Object Oriented Programming(OOP) is a programming terminology that allows programmers to create classes and objects from those classes. classes can be reused over and over again.\n",
    "</font>\n",
    "<br>\n",
    "<br>"
   ]
  },
  {
   "cell_type": "markdown",
   "metadata": {},
   "source": [
    "<font size='5' color='red'>Question 2: List down the Benefits of OOP?</font>\n",
    "<hr>\n",
    "<font color='blue' size='5'>\n",
    "       Using Object Oriented Programming(OOP) we can create classes and we can use inheritance to extend our class into another class it provide us code reusablity and we can create objects from those class\n",
    "</font>\n",
    "<br>\n",
    "<br>"
   ]
  },
  {
   "cell_type": "markdown",
   "metadata": {},
   "source": [
    "<font size='5' color='red'>\n",
    "    Question 3: Differentiate between function and method?\n",
    "</font>\n",
    "<hr>\n",
    "<font size='5' color='blue'>\n",
    "        A function is a piece of code that is called by name. It can be passed data to operate on i.e. the <u>parameters</u>and can optionally return data<u>the return value</u>.\n",
    "<hr>\n",
    "A method is a piece of code that is called by a name that is associated with an object. In most respects it is identical to a function except for two key differences:\n",
    "<hr>\n",
    "A method is implicitly passed the object on which it was called.\n",
    "</font>"
   ]
  },
  {
   "cell_type": "markdown",
   "metadata": {},
   "source": [
    "<font size='5' color='red'>\n",
    "Question 4:\n",
    "    <br>\n",
    "    Define the following terms:\n",
    "    <ol>\n",
    "        <li>Class</li>\n",
    "        <li>Object</li>\n",
    "        <li>Attribute</li>\n",
    "        <li>Behavior</li>\n",
    "    </ol>\n",
    "</font>\n",
    "<font color='blue' size='5'>\n",
    "    <font color='red'>Class</font> : In object-oriented programming, a class is a blueprint for creating objects\n",
    "    <br>\n",
    "    <font color='red'>Objects</font> : an object is a specific instance of a class\n",
    "    <br>\n",
    "    <font color='red'>Attributes</font> : attributes or properties are variables or data containers for the object.\n",
    "    <br>\n",
    "    <font color='red'>Behavior</font> : behavior refers to how objects interact with each other"
   ]
  },
  {
   "cell_type": "markdown",
   "metadata": {},
   "source": [
    "<font size='5' color='red'>\n",
    "    Question 5: Write a code in python in which create a class named it Car which have 5 attributes such like (model, color and name etc.) and 3 methods. And create 5 object instance from that class.\n",
    "</font>"
   ]
  },
  {
   "cell_type": "code",
   "execution_count": 12,
   "metadata": {},
   "outputs": [
    {
     "name": "stdout",
     "output_type": "stream",
     "text": [
      "honda Starting...\n",
      "Booom Boooom, civic is started.\n",
      "civic is moving forward...\n",
      "civic is moving revrse...\n"
     ]
    }
   ],
   "source": [
    "class Car: # It's also valid class Car():\n",
    "    \n",
    "    def __init__(self, name, model, color): # It's constructor method.\n",
    "        self.name = name \n",
    "        self.model = model\n",
    "        self.color = color\n",
    "        self.is_started = False\n",
    "        self.forward = False \n",
    "        self.rev = False\n",
    "    \n",
    "    def start(self): # function that starts the car\n",
    "        print(f\"{self.name} Starting...\")\n",
    "        is_started = True\n",
    "        print(f\"Booom Boooom, {self.model} is started.\")\n",
    "        \n",
    "    def move_forward(self): # function that moves the car forward\n",
    "        self.rev = False\n",
    "        self.forward = True\n",
    "        print(f\"{self.model} is moving forward...\")\n",
    "        \n",
    "    def revrse(self): # function that moves the car background.\n",
    "        self.rev = True\n",
    "        self.fwd = False\n",
    "        print(f\"{self.model} is moving revrse...\")\n",
    "        \n",
    "# Creating objects/instance variables\n",
    "honda_civic = Car('honda', 'civic', 'black')\n",
    "suzuki_mehran = Car('suzuki', 'mehran', 'white')\n",
    "suzuki_cultus = Car('suzuki', 'cultus', 'black')\n",
    "toyota_corola = Car('toyota', 'corola', 'black')\n",
    "toyota_xli = Car('toyota', 'xli', 'black')\n",
    "\n",
    "# Calling the methods of Car class. \n",
    "honda_civic.start()\n",
    "honda_civic.move_forward()\n",
    "honda_civic.revrse()"
   ]
  },
  {
   "cell_type": "code",
   "execution_count": 5,
   "metadata": {},
   "outputs": [
    {
     "name": "stdout",
     "output_type": "stream",
     "text": [
      "xli is moving forward...\n"
     ]
    }
   ],
   "source": [
    "toyota_xli.move_forward()"
   ]
  },
  {
   "cell_type": "code",
   "execution_count": null,
   "metadata": {},
   "outputs": [],
   "source": []
  }
 ],
 "metadata": {
  "kernelspec": {
   "display_name": "Python 3",
   "language": "python",
   "name": "python3"
  },
  "language_info": {
   "codemirror_mode": {
    "name": "ipython",
    "version": 3
   },
   "file_extension": ".py",
   "mimetype": "text/x-python",
   "name": "python",
   "nbconvert_exporter": "python",
   "pygments_lexer": "ipython3",
   "version": "3.8.0"
  }
 },
 "nbformat": 4,
 "nbformat_minor": 2
}
